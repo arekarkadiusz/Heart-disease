{
 "cells": [
  {
   "cell_type": "markdown",
   "id": "c1117973",
   "metadata": {},
   "source": [
    "#### About dataset:\n",
    "WHO has estimated 12 million deaths occur worldwide, every year due to Heart diseases. Half the deaths in the United States and other developed countries are due to cardio vascular diseases. The early prognosis of cardiovascular diseases can aid in making decisions on lifestyle changes in high risk patients and in turn reduce the complications. This research intends to pinpoint the most relevant/risk factors of heart disease as well as predict the overall risk using logistic regression."
   ]
  },
  {
   "cell_type": "code",
   "execution_count": 1,
   "id": "97a09107",
   "metadata": {},
   "outputs": [],
   "source": [
    "import pandas as pd\n",
    "import numpy as np\n",
    "import matplotlib.pyplot as plt\n",
    "import seaborn as sns\n",
    "import scipy.stats as stats"
   ]
  },
  {
   "cell_type": "code",
   "execution_count": 2,
   "id": "c08ed9c1",
   "metadata": {},
   "outputs": [],
   "source": [
    "raw_data = pd.read_csv('framingham.csv')"
   ]
  },
  {
   "cell_type": "code",
   "execution_count": 3,
   "id": "64b5a183",
   "metadata": {},
   "outputs": [
    {
     "data": {
      "text/html": [
       "<div>\n",
       "<style scoped>\n",
       "    .dataframe tbody tr th:only-of-type {\n",
       "        vertical-align: middle;\n",
       "    }\n",
       "\n",
       "    .dataframe tbody tr th {\n",
       "        vertical-align: top;\n",
       "    }\n",
       "\n",
       "    .dataframe thead th {\n",
       "        text-align: right;\n",
       "    }\n",
       "</style>\n",
       "<table border=\"1\" class=\"dataframe\">\n",
       "  <thead>\n",
       "    <tr style=\"text-align: right;\">\n",
       "      <th></th>\n",
       "      <th>male</th>\n",
       "      <th>age</th>\n",
       "      <th>education</th>\n",
       "      <th>currentSmoker</th>\n",
       "      <th>cigsPerDay</th>\n",
       "      <th>BPMeds</th>\n",
       "      <th>prevalentStroke</th>\n",
       "      <th>prevalentHyp</th>\n",
       "      <th>diabetes</th>\n",
       "      <th>totChol</th>\n",
       "      <th>sysBP</th>\n",
       "      <th>diaBP</th>\n",
       "      <th>BMI</th>\n",
       "      <th>heartRate</th>\n",
       "      <th>glucose</th>\n",
       "      <th>TenYearCHD</th>\n",
       "    </tr>\n",
       "  </thead>\n",
       "  <tbody>\n",
       "    <tr>\n",
       "      <th>0</th>\n",
       "      <td>1</td>\n",
       "      <td>39</td>\n",
       "      <td>4.0</td>\n",
       "      <td>0</td>\n",
       "      <td>0.0</td>\n",
       "      <td>0.0</td>\n",
       "      <td>0</td>\n",
       "      <td>0</td>\n",
       "      <td>0</td>\n",
       "      <td>195.0</td>\n",
       "      <td>106.0</td>\n",
       "      <td>70.0</td>\n",
       "      <td>26.97</td>\n",
       "      <td>80.0</td>\n",
       "      <td>77.0</td>\n",
       "      <td>0</td>\n",
       "    </tr>\n",
       "    <tr>\n",
       "      <th>1</th>\n",
       "      <td>0</td>\n",
       "      <td>46</td>\n",
       "      <td>2.0</td>\n",
       "      <td>0</td>\n",
       "      <td>0.0</td>\n",
       "      <td>0.0</td>\n",
       "      <td>0</td>\n",
       "      <td>0</td>\n",
       "      <td>0</td>\n",
       "      <td>250.0</td>\n",
       "      <td>121.0</td>\n",
       "      <td>81.0</td>\n",
       "      <td>28.73</td>\n",
       "      <td>95.0</td>\n",
       "      <td>76.0</td>\n",
       "      <td>0</td>\n",
       "    </tr>\n",
       "    <tr>\n",
       "      <th>2</th>\n",
       "      <td>1</td>\n",
       "      <td>48</td>\n",
       "      <td>1.0</td>\n",
       "      <td>1</td>\n",
       "      <td>20.0</td>\n",
       "      <td>0.0</td>\n",
       "      <td>0</td>\n",
       "      <td>0</td>\n",
       "      <td>0</td>\n",
       "      <td>245.0</td>\n",
       "      <td>127.5</td>\n",
       "      <td>80.0</td>\n",
       "      <td>25.34</td>\n",
       "      <td>75.0</td>\n",
       "      <td>70.0</td>\n",
       "      <td>0</td>\n",
       "    </tr>\n",
       "    <tr>\n",
       "      <th>3</th>\n",
       "      <td>0</td>\n",
       "      <td>61</td>\n",
       "      <td>3.0</td>\n",
       "      <td>1</td>\n",
       "      <td>30.0</td>\n",
       "      <td>0.0</td>\n",
       "      <td>0</td>\n",
       "      <td>1</td>\n",
       "      <td>0</td>\n",
       "      <td>225.0</td>\n",
       "      <td>150.0</td>\n",
       "      <td>95.0</td>\n",
       "      <td>28.58</td>\n",
       "      <td>65.0</td>\n",
       "      <td>103.0</td>\n",
       "      <td>1</td>\n",
       "    </tr>\n",
       "    <tr>\n",
       "      <th>4</th>\n",
       "      <td>0</td>\n",
       "      <td>46</td>\n",
       "      <td>3.0</td>\n",
       "      <td>1</td>\n",
       "      <td>23.0</td>\n",
       "      <td>0.0</td>\n",
       "      <td>0</td>\n",
       "      <td>0</td>\n",
       "      <td>0</td>\n",
       "      <td>285.0</td>\n",
       "      <td>130.0</td>\n",
       "      <td>84.0</td>\n",
       "      <td>23.10</td>\n",
       "      <td>85.0</td>\n",
       "      <td>85.0</td>\n",
       "      <td>0</td>\n",
       "    </tr>\n",
       "  </tbody>\n",
       "</table>\n",
       "</div>"
      ],
      "text/plain": [
       "   male  age  education  currentSmoker  cigsPerDay  BPMeds  prevalentStroke  \\\n",
       "0     1   39        4.0              0         0.0     0.0                0   \n",
       "1     0   46        2.0              0         0.0     0.0                0   \n",
       "2     1   48        1.0              1        20.0     0.0                0   \n",
       "3     0   61        3.0              1        30.0     0.0                0   \n",
       "4     0   46        3.0              1        23.0     0.0                0   \n",
       "\n",
       "   prevalentHyp  diabetes  totChol  sysBP  diaBP    BMI  heartRate  glucose  \\\n",
       "0             0         0    195.0  106.0   70.0  26.97       80.0     77.0   \n",
       "1             0         0    250.0  121.0   81.0  28.73       95.0     76.0   \n",
       "2             0         0    245.0  127.5   80.0  25.34       75.0     70.0   \n",
       "3             1         0    225.0  150.0   95.0  28.58       65.0    103.0   \n",
       "4             0         0    285.0  130.0   84.0  23.10       85.0     85.0   \n",
       "\n",
       "   TenYearCHD  \n",
       "0           0  \n",
       "1           0  \n",
       "2           0  \n",
       "3           1  \n",
       "4           0  "
      ]
     },
     "execution_count": 3,
     "metadata": {},
     "output_type": "execute_result"
    }
   ],
   "source": [
    "raw_data.head()"
   ]
  },
  {
   "cell_type": "code",
   "execution_count": 4,
   "id": "3e73d7bf",
   "metadata": {},
   "outputs": [
    {
     "data": {
      "text/html": [
       "<div>\n",
       "<style scoped>\n",
       "    .dataframe tbody tr th:only-of-type {\n",
       "        vertical-align: middle;\n",
       "    }\n",
       "\n",
       "    .dataframe tbody tr th {\n",
       "        vertical-align: top;\n",
       "    }\n",
       "\n",
       "    .dataframe thead th {\n",
       "        text-align: right;\n",
       "    }\n",
       "</style>\n",
       "<table border=\"1\" class=\"dataframe\">\n",
       "  <thead>\n",
       "    <tr style=\"text-align: right;\">\n",
       "      <th></th>\n",
       "      <th>count</th>\n",
       "      <th>mean</th>\n",
       "      <th>std</th>\n",
       "      <th>min</th>\n",
       "      <th>25%</th>\n",
       "      <th>50%</th>\n",
       "      <th>75%</th>\n",
       "      <th>max</th>\n",
       "    </tr>\n",
       "  </thead>\n",
       "  <tbody>\n",
       "    <tr>\n",
       "      <th>male</th>\n",
       "      <td>4238.0</td>\n",
       "      <td>0.429212</td>\n",
       "      <td>0.495022</td>\n",
       "      <td>0.00</td>\n",
       "      <td>0.00</td>\n",
       "      <td>0.0</td>\n",
       "      <td>1.000</td>\n",
       "      <td>1.0</td>\n",
       "    </tr>\n",
       "    <tr>\n",
       "      <th>age</th>\n",
       "      <td>4238.0</td>\n",
       "      <td>49.584946</td>\n",
       "      <td>8.572160</td>\n",
       "      <td>32.00</td>\n",
       "      <td>42.00</td>\n",
       "      <td>49.0</td>\n",
       "      <td>56.000</td>\n",
       "      <td>70.0</td>\n",
       "    </tr>\n",
       "    <tr>\n",
       "      <th>education</th>\n",
       "      <td>4133.0</td>\n",
       "      <td>1.978950</td>\n",
       "      <td>1.019791</td>\n",
       "      <td>1.00</td>\n",
       "      <td>1.00</td>\n",
       "      <td>2.0</td>\n",
       "      <td>3.000</td>\n",
       "      <td>4.0</td>\n",
       "    </tr>\n",
       "    <tr>\n",
       "      <th>currentSmoker</th>\n",
       "      <td>4238.0</td>\n",
       "      <td>0.494101</td>\n",
       "      <td>0.500024</td>\n",
       "      <td>0.00</td>\n",
       "      <td>0.00</td>\n",
       "      <td>0.0</td>\n",
       "      <td>1.000</td>\n",
       "      <td>1.0</td>\n",
       "    </tr>\n",
       "    <tr>\n",
       "      <th>cigsPerDay</th>\n",
       "      <td>4209.0</td>\n",
       "      <td>9.003089</td>\n",
       "      <td>11.920094</td>\n",
       "      <td>0.00</td>\n",
       "      <td>0.00</td>\n",
       "      <td>0.0</td>\n",
       "      <td>20.000</td>\n",
       "      <td>70.0</td>\n",
       "    </tr>\n",
       "    <tr>\n",
       "      <th>BPMeds</th>\n",
       "      <td>4185.0</td>\n",
       "      <td>0.029630</td>\n",
       "      <td>0.169584</td>\n",
       "      <td>0.00</td>\n",
       "      <td>0.00</td>\n",
       "      <td>0.0</td>\n",
       "      <td>0.000</td>\n",
       "      <td>1.0</td>\n",
       "    </tr>\n",
       "    <tr>\n",
       "      <th>prevalentStroke</th>\n",
       "      <td>4238.0</td>\n",
       "      <td>0.005899</td>\n",
       "      <td>0.076587</td>\n",
       "      <td>0.00</td>\n",
       "      <td>0.00</td>\n",
       "      <td>0.0</td>\n",
       "      <td>0.000</td>\n",
       "      <td>1.0</td>\n",
       "    </tr>\n",
       "    <tr>\n",
       "      <th>prevalentHyp</th>\n",
       "      <td>4238.0</td>\n",
       "      <td>0.310524</td>\n",
       "      <td>0.462763</td>\n",
       "      <td>0.00</td>\n",
       "      <td>0.00</td>\n",
       "      <td>0.0</td>\n",
       "      <td>1.000</td>\n",
       "      <td>1.0</td>\n",
       "    </tr>\n",
       "    <tr>\n",
       "      <th>diabetes</th>\n",
       "      <td>4238.0</td>\n",
       "      <td>0.025720</td>\n",
       "      <td>0.158316</td>\n",
       "      <td>0.00</td>\n",
       "      <td>0.00</td>\n",
       "      <td>0.0</td>\n",
       "      <td>0.000</td>\n",
       "      <td>1.0</td>\n",
       "    </tr>\n",
       "    <tr>\n",
       "      <th>totChol</th>\n",
       "      <td>4188.0</td>\n",
       "      <td>236.721585</td>\n",
       "      <td>44.590334</td>\n",
       "      <td>107.00</td>\n",
       "      <td>206.00</td>\n",
       "      <td>234.0</td>\n",
       "      <td>263.000</td>\n",
       "      <td>696.0</td>\n",
       "    </tr>\n",
       "    <tr>\n",
       "      <th>sysBP</th>\n",
       "      <td>4238.0</td>\n",
       "      <td>132.352407</td>\n",
       "      <td>22.038097</td>\n",
       "      <td>83.50</td>\n",
       "      <td>117.00</td>\n",
       "      <td>128.0</td>\n",
       "      <td>144.000</td>\n",
       "      <td>295.0</td>\n",
       "    </tr>\n",
       "    <tr>\n",
       "      <th>diaBP</th>\n",
       "      <td>4238.0</td>\n",
       "      <td>82.893464</td>\n",
       "      <td>11.910850</td>\n",
       "      <td>48.00</td>\n",
       "      <td>75.00</td>\n",
       "      <td>82.0</td>\n",
       "      <td>89.875</td>\n",
       "      <td>142.5</td>\n",
       "    </tr>\n",
       "    <tr>\n",
       "      <th>BMI</th>\n",
       "      <td>4219.0</td>\n",
       "      <td>25.802008</td>\n",
       "      <td>4.080111</td>\n",
       "      <td>15.54</td>\n",
       "      <td>23.07</td>\n",
       "      <td>25.4</td>\n",
       "      <td>28.040</td>\n",
       "      <td>56.8</td>\n",
       "    </tr>\n",
       "    <tr>\n",
       "      <th>heartRate</th>\n",
       "      <td>4237.0</td>\n",
       "      <td>75.878924</td>\n",
       "      <td>12.026596</td>\n",
       "      <td>44.00</td>\n",
       "      <td>68.00</td>\n",
       "      <td>75.0</td>\n",
       "      <td>83.000</td>\n",
       "      <td>143.0</td>\n",
       "    </tr>\n",
       "    <tr>\n",
       "      <th>glucose</th>\n",
       "      <td>3850.0</td>\n",
       "      <td>81.966753</td>\n",
       "      <td>23.959998</td>\n",
       "      <td>40.00</td>\n",
       "      <td>71.00</td>\n",
       "      <td>78.0</td>\n",
       "      <td>87.000</td>\n",
       "      <td>394.0</td>\n",
       "    </tr>\n",
       "    <tr>\n",
       "      <th>TenYearCHD</th>\n",
       "      <td>4238.0</td>\n",
       "      <td>0.151958</td>\n",
       "      <td>0.359023</td>\n",
       "      <td>0.00</td>\n",
       "      <td>0.00</td>\n",
       "      <td>0.0</td>\n",
       "      <td>0.000</td>\n",
       "      <td>1.0</td>\n",
       "    </tr>\n",
       "  </tbody>\n",
       "</table>\n",
       "</div>"
      ],
      "text/plain": [
       "                  count        mean        std     min     25%    50%  \\\n",
       "male             4238.0    0.429212   0.495022    0.00    0.00    0.0   \n",
       "age              4238.0   49.584946   8.572160   32.00   42.00   49.0   \n",
       "education        4133.0    1.978950   1.019791    1.00    1.00    2.0   \n",
       "currentSmoker    4238.0    0.494101   0.500024    0.00    0.00    0.0   \n",
       "cigsPerDay       4209.0    9.003089  11.920094    0.00    0.00    0.0   \n",
       "BPMeds           4185.0    0.029630   0.169584    0.00    0.00    0.0   \n",
       "prevalentStroke  4238.0    0.005899   0.076587    0.00    0.00    0.0   \n",
       "prevalentHyp     4238.0    0.310524   0.462763    0.00    0.00    0.0   \n",
       "diabetes         4238.0    0.025720   0.158316    0.00    0.00    0.0   \n",
       "totChol          4188.0  236.721585  44.590334  107.00  206.00  234.0   \n",
       "sysBP            4238.0  132.352407  22.038097   83.50  117.00  128.0   \n",
       "diaBP            4238.0   82.893464  11.910850   48.00   75.00   82.0   \n",
       "BMI              4219.0   25.802008   4.080111   15.54   23.07   25.4   \n",
       "heartRate        4237.0   75.878924  12.026596   44.00   68.00   75.0   \n",
       "glucose          3850.0   81.966753  23.959998   40.00   71.00   78.0   \n",
       "TenYearCHD       4238.0    0.151958   0.359023    0.00    0.00    0.0   \n",
       "\n",
       "                     75%    max  \n",
       "male               1.000    1.0  \n",
       "age               56.000   70.0  \n",
       "education          3.000    4.0  \n",
       "currentSmoker      1.000    1.0  \n",
       "cigsPerDay        20.000   70.0  \n",
       "BPMeds             0.000    1.0  \n",
       "prevalentStroke    0.000    1.0  \n",
       "prevalentHyp       1.000    1.0  \n",
       "diabetes           0.000    1.0  \n",
       "totChol          263.000  696.0  \n",
       "sysBP            144.000  295.0  \n",
       "diaBP             89.875  142.5  \n",
       "BMI               28.040   56.8  \n",
       "heartRate         83.000  143.0  \n",
       "glucose           87.000  394.0  \n",
       "TenYearCHD         0.000    1.0  "
      ]
     },
     "execution_count": 4,
     "metadata": {},
     "output_type": "execute_result"
    }
   ],
   "source": [
    "raw_data.describe().T"
   ]
  },
  {
   "cell_type": "code",
   "execution_count": 5,
   "id": "8998baa6",
   "metadata": {},
   "outputs": [
    {
     "name": "stdout",
     "output_type": "stream",
     "text": [
      "<class 'pandas.core.frame.DataFrame'>\n",
      "RangeIndex: 4238 entries, 0 to 4237\n",
      "Data columns (total 16 columns):\n",
      " #   Column           Non-Null Count  Dtype  \n",
      "---  ------           --------------  -----  \n",
      " 0   male             4238 non-null   int64  \n",
      " 1   age              4238 non-null   int64  \n",
      " 2   education        4133 non-null   float64\n",
      " 3   currentSmoker    4238 non-null   int64  \n",
      " 4   cigsPerDay       4209 non-null   float64\n",
      " 5   BPMeds           4185 non-null   float64\n",
      " 6   prevalentStroke  4238 non-null   int64  \n",
      " 7   prevalentHyp     4238 non-null   int64  \n",
      " 8   diabetes         4238 non-null   int64  \n",
      " 9   totChol          4188 non-null   float64\n",
      " 10  sysBP            4238 non-null   float64\n",
      " 11  diaBP            4238 non-null   float64\n",
      " 12  BMI              4219 non-null   float64\n",
      " 13  heartRate        4237 non-null   float64\n",
      " 14  glucose          3850 non-null   float64\n",
      " 15  TenYearCHD       4238 non-null   int64  \n",
      "dtypes: float64(9), int64(7)\n",
      "memory usage: 529.9 KB\n"
     ]
    }
   ],
   "source": [
    "raw_data.info()"
   ]
  },
  {
   "cell_type": "markdown",
   "id": "65231539",
   "metadata": {},
   "source": [
    "### Checking correlation with numerical values."
   ]
  },
  {
   "cell_type": "code",
   "execution_count": 6,
   "id": "ace93361",
   "metadata": {},
   "outputs": [
    {
     "data": {
      "text/html": [
       "<div>\n",
       "<style scoped>\n",
       "    .dataframe tbody tr th:only-of-type {\n",
       "        vertical-align: middle;\n",
       "    }\n",
       "\n",
       "    .dataframe tbody tr th {\n",
       "        vertical-align: top;\n",
       "    }\n",
       "\n",
       "    .dataframe thead th {\n",
       "        text-align: right;\n",
       "    }\n",
       "</style>\n",
       "<table border=\"1\" class=\"dataframe\">\n",
       "  <thead>\n",
       "    <tr style=\"text-align: right;\">\n",
       "      <th></th>\n",
       "      <th>age</th>\n",
       "      <th>cigsPerDay</th>\n",
       "      <th>totChol</th>\n",
       "      <th>sysBP</th>\n",
       "      <th>diaBP</th>\n",
       "      <th>BMI</th>\n",
       "      <th>heartRate</th>\n",
       "      <th>glucose</th>\n",
       "    </tr>\n",
       "  </thead>\n",
       "  <tbody>\n",
       "    <tr>\n",
       "      <th>age</th>\n",
       "      <td>100.000000</td>\n",
       "      <td>-19.279085</td>\n",
       "      <td>26.213102</td>\n",
       "      <td>39.430154</td>\n",
       "      <td>20.610399</td>\n",
       "      <td>13.579957</td>\n",
       "      <td>-1.282300</td>\n",
       "      <td>12.225578</td>\n",
       "    </tr>\n",
       "    <tr>\n",
       "      <th>cigsPerDay</th>\n",
       "      <td>-19.279085</td>\n",
       "      <td>100.000000</td>\n",
       "      <td>-2.631986</td>\n",
       "      <td>-8.877953</td>\n",
       "      <td>-5.663246</td>\n",
       "      <td>-9.285600</td>\n",
       "      <td>7.515687</td>\n",
       "      <td>-5.895976</td>\n",
       "    </tr>\n",
       "    <tr>\n",
       "      <th>totChol</th>\n",
       "      <td>26.213102</td>\n",
       "      <td>-2.631986</td>\n",
       "      <td>100.000000</td>\n",
       "      <td>20.890779</td>\n",
       "      <td>16.518237</td>\n",
       "      <td>11.576679</td>\n",
       "      <td>9.112473</td>\n",
       "      <td>4.640793</td>\n",
       "    </tr>\n",
       "    <tr>\n",
       "      <th>sysBP</th>\n",
       "      <td>39.430154</td>\n",
       "      <td>-8.877953</td>\n",
       "      <td>20.890779</td>\n",
       "      <td>100.000000</td>\n",
       "      <td>78.400209</td>\n",
       "      <td>32.698058</td>\n",
       "      <td>18.224565</td>\n",
       "      <td>14.062110</td>\n",
       "    </tr>\n",
       "    <tr>\n",
       "      <th>diaBP</th>\n",
       "      <td>20.610399</td>\n",
       "      <td>-5.663246</td>\n",
       "      <td>16.518237</td>\n",
       "      <td>78.400209</td>\n",
       "      <td>100.000000</td>\n",
       "      <td>37.758766</td>\n",
       "      <td>18.125506</td>\n",
       "      <td>6.123138</td>\n",
       "    </tr>\n",
       "    <tr>\n",
       "      <th>BMI</th>\n",
       "      <td>13.579957</td>\n",
       "      <td>-9.285600</td>\n",
       "      <td>11.576679</td>\n",
       "      <td>32.698058</td>\n",
       "      <td>37.758766</td>\n",
       "      <td>100.000000</td>\n",
       "      <td>6.767843</td>\n",
       "      <td>8.737655</td>\n",
       "    </tr>\n",
       "    <tr>\n",
       "      <th>heartRate</th>\n",
       "      <td>-1.282300</td>\n",
       "      <td>7.515687</td>\n",
       "      <td>9.112473</td>\n",
       "      <td>18.224565</td>\n",
       "      <td>18.125506</td>\n",
       "      <td>6.767843</td>\n",
       "      <td>100.000000</td>\n",
       "      <td>9.450012</td>\n",
       "    </tr>\n",
       "    <tr>\n",
       "      <th>glucose</th>\n",
       "      <td>12.225578</td>\n",
       "      <td>-5.895976</td>\n",
       "      <td>4.640793</td>\n",
       "      <td>14.062110</td>\n",
       "      <td>6.123138</td>\n",
       "      <td>8.737655</td>\n",
       "      <td>9.450012</td>\n",
       "      <td>100.000000</td>\n",
       "    </tr>\n",
       "  </tbody>\n",
       "</table>\n",
       "</div>"
      ],
      "text/plain": [
       "                   age  cigsPerDay     totChol       sysBP       diaBP  \\\n",
       "age         100.000000  -19.279085   26.213102   39.430154   20.610399   \n",
       "cigsPerDay  -19.279085  100.000000   -2.631986   -8.877953   -5.663246   \n",
       "totChol      26.213102   -2.631986  100.000000   20.890779   16.518237   \n",
       "sysBP        39.430154   -8.877953   20.890779  100.000000   78.400209   \n",
       "diaBP        20.610399   -5.663246   16.518237   78.400209  100.000000   \n",
       "BMI          13.579957   -9.285600   11.576679   32.698058   37.758766   \n",
       "heartRate    -1.282300    7.515687    9.112473   18.224565   18.125506   \n",
       "glucose      12.225578   -5.895976    4.640793   14.062110    6.123138   \n",
       "\n",
       "                   BMI   heartRate     glucose  \n",
       "age          13.579957   -1.282300   12.225578  \n",
       "cigsPerDay   -9.285600    7.515687   -5.895976  \n",
       "totChol      11.576679    9.112473    4.640793  \n",
       "sysBP        32.698058   18.224565   14.062110  \n",
       "diaBP        37.758766   18.125506    6.123138  \n",
       "BMI         100.000000    6.767843    8.737655  \n",
       "heartRate     6.767843  100.000000    9.450012  \n",
       "glucose       8.737655    9.450012  100.000000  "
      ]
     },
     "execution_count": 6,
     "metadata": {},
     "output_type": "execute_result"
    }
   ],
   "source": [
    "num_cols = [\"age\", \"cigsPerDay\", \"totChol\", \"sysBP\", \"diaBP\", \"BMI\", \"heartRate\", \"glucose\"]\n",
    "num_data_corr = raw_data[num_cols]\n",
    "num_data_corr.corr()*100"
   ]
  },
  {
   "cell_type": "code",
   "execution_count": 7,
   "id": "7871d383",
   "metadata": {},
   "outputs": [
    {
     "data": {
      "image/png": "[encoded data removed]",
      "text/plain": [
       "<Figure size 1080x864 with 2 Axes>"
      ]
     },
     "metadata": {
      "needs_background": "light"
     },
     "output_type": "display_data"
    }
   ],
   "source": [
    "plt.figure(figsize=(15, 12)) \n",
    "sns.heatmap(num_data_corr.corr()*100, annot=True, cmap=\"coolwarm\", fmt=\".2f\", linewidths=0.5)\n",
    "plt.title(\"Corellation Matrix\")\n",
    "plt.show()"
   ]
  },
  {
   "cell_type": "code",
   "execution_count": 8,
   "id": "df7954f5",
   "metadata": {},
   "outputs": [
    {
     "data": {
      "text/plain": [
       "Index(['male', 'age', 'education', 'currentSmoker', 'cigsPerDay', 'BPMeds',\n",
       "       'prevalentStroke', 'prevalentHyp', 'diabetes', 'totChol', 'sysBP',\n",
       "       'diaBP', 'BMI', 'heartRate', 'glucose', 'TenYearCHD'],\n",
       "      dtype='object')"
      ]
     },
     "execution_count": 8,
     "metadata": {},
     "output_type": "execute_result"
    }
   ],
   "source": [
    "raw_data.columns"
   ]
  },
  {
   "cell_type": "markdown",
   "id": "635b1941",
   "metadata": {},
   "source": [
    "### Chi-square test for categorical data"
   ]
  },
  {
   "cell_type": "code",
   "execution_count": 9,
   "id": "fbed8282",
   "metadata": {},
   "outputs": [],
   "source": [
    "cat_data = ['male', 'education', 'currentSmoker', 'BPMeds','prevalentStroke', 'prevalentHyp', 'diabetes','TenYearCHD']"
   ]
  },
  {
   "cell_type": "code",
   "execution_count": 10,
   "id": "586659dc",
   "metadata": {},
   "outputs": [
    {
     "name": "stdout",
     "output_type": "stream",
     "text": [
      "Chi-square test:\n",
      "Test statistic: 363.15111423643697\n",
      "p Value: 1.0833141913323968e-32\n",
      "Degrees of freedom: 96\n",
      "Expected value: [[2.95373529e+02 5.09264706e+00 1.79940196e+02 1.18828431e+01\n",
      "  8.48774510e-01 2.54632353e+00 8.48774510e-01 1.61267157e+01\n",
      "  1.69754902e+00 3.39509804e+00 1.88427941e+02 3.39509804e+00\n",
      "  6.11117647e+01 3.39509804e+00 8.48774510e-01 7.63897059e+00\n",
      "  8.48774510e-01 2.06252206e+02 1.69754902e+00 1.02701716e+02\n",
      "  3.39509804e+00 1.69754902e+00 1.69754902e+01 1.69754902e+00\n",
      "  2.35959314e+02 2.54632353e+00 5.43215686e+01 2.54632353e+00\n",
      "  8.48774510e-01 9.33651961e+00 8.48774510e-01 1.61267157e+02\n",
      "  8.48774510e-01 5.68678922e+01 5.09264706e+00 8.48774510e-01\n",
      "  1.34106373e+02 2.54632353e+00 2.12193627e+01 3.39509804e+00\n",
      "  8.48774510e-01 6.70531863e+01 1.86730392e+01 8.48774510e-01\n",
      "  3.39509804e+00 6.02629902e+01 8.48774510e-01 1.27316176e+01\n",
      "  1.69754902e+00 1.45989216e+02 5.94142157e+00 7.63897059e+01\n",
      "  7.63897059e+00 8.48774510e-01 6.79019608e+00 8.48774510e-01\n",
      "  8.48774510e-01 2.69910294e+02 5.09264706e+00 1.21374755e+02\n",
      "  2.54632353e+00 1.69754902e+00 6.79019608e+00 1.00155392e+02\n",
      "  2.54632353e+00 3.90436275e+01 8.48774510e-01 1.69754902e+00\n",
      "  2.54632353e+00 1.96915686e+02 3.39509804e+00 6.45068627e+01\n",
      "  8.48774510e-01 8.48774510e-01 8.48774510e-01 5.00776961e+01\n",
      "  2.54632353e+00 2.46144608e+01 2.54632353e+00 8.48774510e-01\n",
      "  1.69754902e+00 8.48774510e-01 7.29946078e+01 8.48774510e-01\n",
      "  2.80095588e+01 8.48774510e-01 8.48774510e-01 1.69754902e+00\n",
      "  7.04482843e+01 3.39509804e+00 2.71607843e+01 3.39509804e+00\n",
      "  8.82725490e+01 8.48774510e-01 3.31022059e+01 1.69754902e+00\n",
      "  2.54632353e+00]\n",
      " [5.26264706e+01 9.07352941e-01 3.20598039e+01 2.11715686e+00\n",
      "  1.51225490e-01 4.53676471e-01 1.51225490e-01 2.87328431e+00\n",
      "  3.02450980e-01 6.04901961e-01 3.35720588e+01 6.04901961e-01\n",
      "  1.08882353e+01 6.04901961e-01 1.51225490e-01 1.36102941e+00\n",
      "  1.51225490e-01 3.67477941e+01 3.02450980e-01 1.82982843e+01\n",
      "  6.04901961e-01 3.02450980e-01 3.02450980e+00 3.02450980e-01\n",
      "  4.20406863e+01 4.53676471e-01 9.67843137e+00 4.53676471e-01\n",
      "  1.51225490e-01 1.66348039e+00 1.51225490e-01 2.87328431e+01\n",
      "  1.51225490e-01 1.01321078e+01 9.07352941e-01 1.51225490e-01\n",
      "  2.38936275e+01 4.53676471e-01 3.78063725e+00 6.04901961e-01\n",
      "  1.51225490e-01 1.19468137e+01 3.32696078e+00 1.51225490e-01\n",
      "  6.04901961e-01 1.07370098e+01 1.51225490e-01 2.26838235e+00\n",
      "  3.02450980e-01 2.60107843e+01 1.05857843e+00 1.36102941e+01\n",
      "  1.36102941e+00 1.51225490e-01 1.20980392e+00 1.51225490e-01\n",
      "  1.51225490e-01 4.80897059e+01 9.07352941e-01 2.16252451e+01\n",
      "  4.53676471e-01 3.02450980e-01 1.20980392e+00 1.78446078e+01\n",
      "  4.53676471e-01 6.95637255e+00 1.51225490e-01 3.02450980e-01\n",
      "  4.53676471e-01 3.50843137e+01 6.04901961e-01 1.14931373e+01\n",
      "  1.51225490e-01 1.51225490e-01 1.51225490e-01 8.92230392e+00\n",
      "  4.53676471e-01 4.38553922e+00 4.53676471e-01 1.51225490e-01\n",
      "  3.02450980e-01 1.51225490e-01 1.30053922e+01 1.51225490e-01\n",
      "  4.99044118e+00 1.51225490e-01 1.51225490e-01 3.02450980e-01\n",
      "  1.25517157e+01 6.04901961e-01 4.83921569e+00 6.04901961e-01\n",
      "  1.57274510e+01 1.51225490e-01 5.89779412e+00 3.02450980e-01\n",
      "  4.53676471e-01]]\n"
     ]
    }
   ],
   "source": [
    "table = pd.crosstab(raw_data['TenYearCHD'], [raw_data['male'], raw_data['education'], raw_data['currentSmoker'], raw_data['BPMeds'], \n",
    "                                               raw_data['prevalentStroke'], raw_data['prevalentHyp'], raw_data['diabetes']])\n",
    "chi2_stat, p_value, dof, expected = stats.chi2_contingency(table)\n",
    "print(\"Chi-square test:\")\n",
    "print(\"Test statistic:\", chi2_stat)\n",
    "print(\"p Value:\", p_value)\n",
    "print(\"Degrees of freedom:\", dof)\n",
    "print(\"Expected value:\", expected)"
   ]
  },
  {
   "cell_type": "markdown",
   "id": "7235450c",
   "metadata": {},
   "source": [
    "### Variable distribution"
   ]
  },
  {
   "cell_type": "code",
   "execution_count": 11,
   "id": "3cb2f91e",
   "metadata": {},
   "outputs": [
    {
     "data": {
      "image/png": "[encoded data removed]",
      "text/plain": [
       "<Figure size 1440x1440 with 16 Axes>"
      ]
     },
     "metadata": {
      "needs_background": "light"
     },
     "output_type": "display_data"
    }
   ],
   "source": [
    "cols =['male', 'age', 'education', 'currentSmoker', 'cigsPerDay', 'BPMeds',\n",
    "       'prevalentStroke', 'prevalentHyp', 'diabetes', 'totChol', 'sysBP',\n",
    "       'diaBP', 'BMI', 'heartRate', 'glucose', 'TenYearCHD']\n",
    "plt.figure(figsize=(20,20))\n",
    "for i in range(1,17):\n",
    "    plt.subplot(4,4,i)\n",
    "    sns.histplot(raw_data[cols[i-1]])"
   ]
  },
  {
   "cell_type": "code",
   "execution_count": 12,
   "id": "f31a2fa0",
   "metadata": {},
   "outputs": [
    {
     "data": {
      "text/html": [
       "<div>\n",
       "<style scoped>\n",
       "    .dataframe tbody tr th:only-of-type {\n",
       "        vertical-align: middle;\n",
       "    }\n",
       "\n",
       "    .dataframe tbody tr th {\n",
       "        vertical-align: top;\n",
       "    }\n",
       "\n",
       "    .dataframe thead th {\n",
       "        text-align: right;\n",
       "    }\n",
       "</style>\n",
       "<table border=\"1\" class=\"dataframe\">\n",
       "  <thead>\n",
       "    <tr style=\"text-align: right;\">\n",
       "      <th></th>\n",
       "      <th>male</th>\n",
       "      <th>age</th>\n",
       "      <th>education</th>\n",
       "      <th>currentSmoker</th>\n",
       "      <th>cigsPerDay</th>\n",
       "      <th>BPMeds</th>\n",
       "      <th>prevalentStroke</th>\n",
       "      <th>prevalentHyp</th>\n",
       "      <th>diabetes</th>\n",
       "      <th>totChol</th>\n",
       "      <th>sysBP</th>\n",
       "      <th>diaBP</th>\n",
       "      <th>BMI</th>\n",
       "      <th>heartRate</th>\n",
       "      <th>glucose</th>\n",
       "    </tr>\n",
       "    <tr>\n",
       "      <th>TenYearCHD</th>\n",
       "      <th></th>\n",
       "      <th></th>\n",
       "      <th></th>\n",
       "      <th></th>\n",
       "      <th></th>\n",
       "      <th></th>\n",
       "      <th></th>\n",
       "      <th></th>\n",
       "      <th></th>\n",
       "      <th></th>\n",
       "      <th></th>\n",
       "      <th></th>\n",
       "      <th></th>\n",
       "      <th></th>\n",
       "      <th></th>\n",
       "    </tr>\n",
       "  </thead>\n",
       "  <tbody>\n",
       "    <tr>\n",
       "      <th>0</th>\n",
       "      <td>0.410684</td>\n",
       "      <td>48.767668</td>\n",
       "      <td>2.002282</td>\n",
       "      <td>0.489983</td>\n",
       "      <td>8.710401</td>\n",
       "      <td>0.023367</td>\n",
       "      <td>0.003895</td>\n",
       "      <td>0.275737</td>\n",
       "      <td>0.019199</td>\n",
       "      <td>235.172530</td>\n",
       "      <td>130.333612</td>\n",
       "      <td>82.160963</td>\n",
       "      <td>25.673007</td>\n",
       "      <td>75.762382</td>\n",
       "      <td>80.682125</td>\n",
       "    </tr>\n",
       "    <tr>\n",
       "      <th>1</th>\n",
       "      <td>0.532609</td>\n",
       "      <td>54.145963</td>\n",
       "      <td>1.848726</td>\n",
       "      <td>0.517081</td>\n",
       "      <td>10.629283</td>\n",
       "      <td>0.064771</td>\n",
       "      <td>0.017081</td>\n",
       "      <td>0.504658</td>\n",
       "      <td>0.062112</td>\n",
       "      <td>245.388976</td>\n",
       "      <td>143.618789</td>\n",
       "      <td>86.981366</td>\n",
       "      <td>26.531451</td>\n",
       "      <td>76.530327</td>\n",
       "      <td>89.008418</td>\n",
       "    </tr>\n",
       "  </tbody>\n",
       "</table>\n",
       "</div>"
      ],
      "text/plain": [
       "                male        age  education  currentSmoker  cigsPerDay  \\\n",
       "TenYearCHD                                                              \n",
       "0           0.410684  48.767668   2.002282       0.489983    8.710401   \n",
       "1           0.532609  54.145963   1.848726       0.517081   10.629283   \n",
       "\n",
       "              BPMeds  prevalentStroke  prevalentHyp  diabetes     totChol  \\\n",
       "TenYearCHD                                                                  \n",
       "0           0.023367         0.003895      0.275737  0.019199  235.172530   \n",
       "1           0.064771         0.017081      0.504658  0.062112  245.388976   \n",
       "\n",
       "                 sysBP      diaBP        BMI  heartRate    glucose  \n",
       "TenYearCHD                                                          \n",
       "0           130.333612  82.160963  25.673007  75.762382  80.682125  \n",
       "1           143.618789  86.981366  26.531451  76.530327  89.008418  "
      ]
     },
     "execution_count": 12,
     "metadata": {},
     "output_type": "execute_result"
    }
   ],
   "source": [
    "raw_data.groupby(by='TenYearCHD').mean()"
   ]
  },
  {
   "cell_type": "code",
   "execution_count": 13,
   "id": "409b897b",
   "metadata": {},
   "outputs": [
    {
     "data": {
      "text/plain": [
       "0    3594\n",
       "1     644\n",
       "Name: TenYearCHD, dtype: int64"
      ]
     },
     "execution_count": 13,
     "metadata": {},
     "output_type": "execute_result"
    }
   ],
   "source": [
    "raw_data['TenYearCHD'].value_counts()"
   ]
  },
  {
   "cell_type": "markdown",
   "id": "9b160739",
   "metadata": {},
   "source": [
    "### Empty rows filling"
   ]
  },
  {
   "cell_type": "code",
   "execution_count": 14,
   "id": "a0129dff",
   "metadata": {},
   "outputs": [
    {
     "data": {
      "text/plain": [
       "education     105\n",
       "cigsPerDay     29\n",
       "BPMeds         53\n",
       "totChol        50\n",
       "BMI            19\n",
       "heartRate       1\n",
       "glucose       388\n",
       "dtype: int64"
      ]
     },
     "execution_count": 14,
     "metadata": {},
     "output_type": "execute_result"
    }
   ],
   "source": [
    "raw_data.isnull().sum()[raw_data.isnull().sum()>0]"
   ]
  },
  {
   "cell_type": "markdown",
   "id": "af164583",
   "metadata": {},
   "source": [
    "Comment: There are not many empty row so that media should be proper to fill missing value."
   ]
  },
  {
   "cell_type": "code",
   "execution_count": 15,
   "id": "659eb463",
   "metadata": {},
   "outputs": [],
   "source": [
    "empty_data = raw_data.copy()"
   ]
  },
  {
   "cell_type": "code",
   "execution_count": 16,
   "id": "6c73cf42",
   "metadata": {},
   "outputs": [],
   "source": [
    "empty_cols = ['education','cigsPerDay','BPMeds','totChol','BMI','heartRate','glucose']"
   ]
  },
  {
   "cell_type": "code",
   "execution_count": 17,
   "id": "f5725fbf",
   "metadata": {},
   "outputs": [],
   "source": [
    "for i in empty_cols:\n",
    "    empty_data[i] = empty_data[i].fillna(empty_data[i].median())"
   ]
  },
  {
   "cell_type": "code",
   "execution_count": 18,
   "id": "2155b155",
   "metadata": {},
   "outputs": [
    {
     "data": {
      "text/plain": [
       "male               0\n",
       "age                0\n",
       "education          0\n",
       "currentSmoker      0\n",
       "cigsPerDay         0\n",
       "BPMeds             0\n",
       "prevalentStroke    0\n",
       "prevalentHyp       0\n",
       "diabetes           0\n",
       "totChol            0\n",
       "sysBP              0\n",
       "diaBP              0\n",
       "BMI                0\n",
       "heartRate          0\n",
       "glucose            0\n",
       "TenYearCHD         0\n",
       "dtype: int64"
      ]
     },
     "execution_count": 18,
     "metadata": {},
     "output_type": "execute_result"
    }
   ],
   "source": [
    "filled_data = empty_data.copy()\n",
    "filled_data.isnull().sum()"
   ]
  },
  {
   "cell_type": "code",
   "execution_count": 19,
   "id": "b5a7d116",
   "metadata": {},
   "outputs": [
    {
     "name": "stdout",
     "output_type": "stream",
     "text": [
      "<class 'pandas.core.frame.DataFrame'>\n",
      "RangeIndex: 4238 entries, 0 to 4237\n",
      "Data columns (total 16 columns):\n",
      " #   Column           Non-Null Count  Dtype  \n",
      "---  ------           --------------  -----  \n",
      " 0   male             4238 non-null   int64  \n",
      " 1   age              4238 non-null   int64  \n",
      " 2   education        4238 non-null   float64\n",
      " 3   currentSmoker    4238 non-null   int64  \n",
      " 4   cigsPerDay       4238 non-null   float64\n",
      " 5   BPMeds           4238 non-null   float64\n",
      " 6   prevalentStroke  4238 non-null   int64  \n",
      " 7   prevalentHyp     4238 non-null   int64  \n",
      " 8   diabetes         4238 non-null   int64  \n",
      " 9   totChol          4238 non-null   float64\n",
      " 10  sysBP            4238 non-null   float64\n",
      " 11  diaBP            4238 non-null   float64\n",
      " 12  BMI              4238 non-null   float64\n",
      " 13  heartRate        4238 non-null   float64\n",
      " 14  glucose          4238 non-null   float64\n",
      " 15  TenYearCHD       4238 non-null   int64  \n",
      "dtypes: float64(9), int64(7)\n",
      "memory usage: 529.9 KB\n"
     ]
    }
   ],
   "source": [
    "filled_data.info()"
   ]
  },
  {
   "cell_type": "markdown",
   "id": "f0a58000",
   "metadata": {},
   "source": [
    "### Checking if filling empty rows affected the data"
   ]
  },
  {
   "cell_type": "markdown",
   "id": "37def9af",
   "metadata": {},
   "source": [
    "#### Mean after filling empty rows"
   ]
  },
  {
   "cell_type": "code",
   "execution_count": 20,
   "id": "5d09dbda",
   "metadata": {},
   "outputs": [
    {
     "data": {
      "text/html": [
       "<div>\n",
       "<style scoped>\n",
       "    .dataframe tbody tr th:only-of-type {\n",
       "        vertical-align: middle;\n",
       "    }\n",
       "\n",
       "    .dataframe tbody tr th {\n",
       "        vertical-align: top;\n",
       "    }\n",
       "\n",
       "    .dataframe thead th {\n",
       "        text-align: right;\n",
       "    }\n",
       "</style>\n",
       "<table border=\"1\" class=\"dataframe\">\n",
       "  <thead>\n",
       "    <tr style=\"text-align: right;\">\n",
       "      <th></th>\n",
       "      <th>male</th>\n",
       "      <th>age</th>\n",
       "      <th>education</th>\n",
       "      <th>currentSmoker</th>\n",
       "      <th>cigsPerDay</th>\n",
       "      <th>BPMeds</th>\n",
       "      <th>prevalentStroke</th>\n",
       "      <th>prevalentHyp</th>\n",
       "      <th>diabetes</th>\n",
       "      <th>totChol</th>\n",
       "      <th>sysBP</th>\n",
       "      <th>diaBP</th>\n",
       "      <th>BMI</th>\n",
       "      <th>heartRate</th>\n",
       "      <th>glucose</th>\n",
       "    </tr>\n",
       "    <tr>\n",
       "      <th>TenYearCHD</th>\n",
       "      <th></th>\n",
       "      <th></th>\n",
       "      <th></th>\n",
       "      <th></th>\n",
       "      <th></th>\n",
       "      <th></th>\n",
       "      <th></th>\n",
       "      <th></th>\n",
       "      <th></th>\n",
       "      <th></th>\n",
       "      <th></th>\n",
       "      <th></th>\n",
       "      <th></th>\n",
       "      <th></th>\n",
       "      <th></th>\n",
       "    </tr>\n",
       "  </thead>\n",
       "  <tbody>\n",
       "    <tr>\n",
       "      <th>0</th>\n",
       "      <td>0.410684</td>\n",
       "      <td>48.767668</td>\n",
       "      <td>2.002226</td>\n",
       "      <td>0.489983</td>\n",
       "      <td>8.644964</td>\n",
       "      <td>0.023094</td>\n",
       "      <td>0.003895</td>\n",
       "      <td>0.275737</td>\n",
       "      <td>0.019199</td>\n",
       "      <td>235.159154</td>\n",
       "      <td>130.333612</td>\n",
       "      <td>82.160963</td>\n",
       "      <td>25.672323</td>\n",
       "      <td>75.762382</td>\n",
       "      <td>80.429883</td>\n",
       "    </tr>\n",
       "    <tr>\n",
       "      <th>1</th>\n",
       "      <td>0.532609</td>\n",
       "      <td>54.145963</td>\n",
       "      <td>1.852484</td>\n",
       "      <td>0.517081</td>\n",
       "      <td>10.596273</td>\n",
       "      <td>0.063665</td>\n",
       "      <td>0.017081</td>\n",
       "      <td>0.504658</td>\n",
       "      <td>0.062112</td>\n",
       "      <td>245.229814</td>\n",
       "      <td>143.618789</td>\n",
       "      <td>86.981366</td>\n",
       "      <td>26.513882</td>\n",
       "      <td>76.527950</td>\n",
       "      <td>88.153727</td>\n",
       "    </tr>\n",
       "  </tbody>\n",
       "</table>\n",
       "</div>"
      ],
      "text/plain": [
       "                male        age  education  currentSmoker  cigsPerDay  \\\n",
       "TenYearCHD                                                              \n",
       "0           0.410684  48.767668   2.002226       0.489983    8.644964   \n",
       "1           0.532609  54.145963   1.852484       0.517081   10.596273   \n",
       "\n",
       "              BPMeds  prevalentStroke  prevalentHyp  diabetes     totChol  \\\n",
       "TenYearCHD                                                                  \n",
       "0           0.023094         0.003895      0.275737  0.019199  235.159154   \n",
       "1           0.063665         0.017081      0.504658  0.062112  245.229814   \n",
       "\n",
       "                 sysBP      diaBP        BMI  heartRate    glucose  \n",
       "TenYearCHD                                                          \n",
       "0           130.333612  82.160963  25.672323  75.762382  80.429883  \n",
       "1           143.618789  86.981366  26.513882  76.527950  88.153727  "
      ]
     },
     "execution_count": 20,
     "metadata": {},
     "output_type": "execute_result"
    }
   ],
   "source": [
    "filled_data.groupby(by='TenYearCHD').mean()"
   ]
  },
  {
   "cell_type": "markdown",
   "id": "0247895c",
   "metadata": {},
   "source": [
    "#### Mean before filling empty rows"
   ]
  },
  {
   "cell_type": "code",
   "execution_count": 21,
   "id": "d365df14",
   "metadata": {},
   "outputs": [
    {
     "data": {
      "text/html": [
       "<div>\n",
       "<style scoped>\n",
       "    .dataframe tbody tr th:only-of-type {\n",
       "        vertical-align: middle;\n",
       "    }\n",
       "\n",
       "    .dataframe tbody tr th {\n",
       "        vertical-align: top;\n",
       "    }\n",
       "\n",
       "    .dataframe thead th {\n",
       "        text-align: right;\n",
       "    }\n",
       "</style>\n",
       "<table border=\"1\" class=\"dataframe\">\n",
       "  <thead>\n",
       "    <tr style=\"text-align: right;\">\n",
       "      <th></th>\n",
       "      <th>male</th>\n",
       "      <th>age</th>\n",
       "      <th>education</th>\n",
       "      <th>currentSmoker</th>\n",
       "      <th>cigsPerDay</th>\n",
       "      <th>BPMeds</th>\n",
       "      <th>prevalentStroke</th>\n",
       "      <th>prevalentHyp</th>\n",
       "      <th>diabetes</th>\n",
       "      <th>totChol</th>\n",
       "      <th>sysBP</th>\n",
       "      <th>diaBP</th>\n",
       "      <th>BMI</th>\n",
       "      <th>heartRate</th>\n",
       "      <th>glucose</th>\n",
       "    </tr>\n",
       "    <tr>\n",
       "      <th>TenYearCHD</th>\n",
       "      <th></th>\n",
       "      <th></th>\n",
       "      <th></th>\n",
       "      <th></th>\n",
       "      <th></th>\n",
       "      <th></th>\n",
       "      <th></th>\n",
       "      <th></th>\n",
       "      <th></th>\n",
       "      <th></th>\n",
       "      <th></th>\n",
       "      <th></th>\n",
       "      <th></th>\n",
       "      <th></th>\n",
       "      <th></th>\n",
       "    </tr>\n",
       "  </thead>\n",
       "  <tbody>\n",
       "    <tr>\n",
       "      <th>0</th>\n",
       "      <td>0.410684</td>\n",
       "      <td>48.767668</td>\n",
       "      <td>2.002282</td>\n",
       "      <td>0.489983</td>\n",
       "      <td>8.710401</td>\n",
       "      <td>0.023367</td>\n",
       "      <td>0.003895</td>\n",
       "      <td>0.275737</td>\n",
       "      <td>0.019199</td>\n",
       "      <td>235.172530</td>\n",
       "      <td>130.333612</td>\n",
       "      <td>82.160963</td>\n",
       "      <td>25.673007</td>\n",
       "      <td>75.762382</td>\n",
       "      <td>80.682125</td>\n",
       "    </tr>\n",
       "    <tr>\n",
       "      <th>1</th>\n",
       "      <td>0.532609</td>\n",
       "      <td>54.145963</td>\n",
       "      <td>1.848726</td>\n",
       "      <td>0.517081</td>\n",
       "      <td>10.629283</td>\n",
       "      <td>0.064771</td>\n",
       "      <td>0.017081</td>\n",
       "      <td>0.504658</td>\n",
       "      <td>0.062112</td>\n",
       "      <td>245.388976</td>\n",
       "      <td>143.618789</td>\n",
       "      <td>86.981366</td>\n",
       "      <td>26.531451</td>\n",
       "      <td>76.530327</td>\n",
       "      <td>89.008418</td>\n",
       "    </tr>\n",
       "  </tbody>\n",
       "</table>\n",
       "</div>"
      ],
      "text/plain": [
       "                male        age  education  currentSmoker  cigsPerDay  \\\n",
       "TenYearCHD                                                              \n",
       "0           0.410684  48.767668   2.002282       0.489983    8.710401   \n",
       "1           0.532609  54.145963   1.848726       0.517081   10.629283   \n",
       "\n",
       "              BPMeds  prevalentStroke  prevalentHyp  diabetes     totChol  \\\n",
       "TenYearCHD                                                                  \n",
       "0           0.023367         0.003895      0.275737  0.019199  235.172530   \n",
       "1           0.064771         0.017081      0.504658  0.062112  245.388976   \n",
       "\n",
       "                 sysBP      diaBP        BMI  heartRate    glucose  \n",
       "TenYearCHD                                                          \n",
       "0           130.333612  82.160963  25.673007  75.762382  80.682125  \n",
       "1           143.618789  86.981366  26.531451  76.530327  89.008418  "
      ]
     },
     "execution_count": 21,
     "metadata": {},
     "output_type": "execute_result"
    }
   ],
   "source": [
    "raw_data.groupby(by='TenYearCHD').mean()"
   ]
  },
  {
   "cell_type": "markdown",
   "id": "9e7b2d7d",
   "metadata": {},
   "source": [
    "#### Chi-square test after filling empty rows"
   ]
  },
  {
   "cell_type": "code",
   "execution_count": 22,
   "id": "fd00ea28",
   "metadata": {},
   "outputs": [
    {
     "name": "stdout",
     "output_type": "stream",
     "text": [
      "Chi-square test:\n",
      "Test statistic: 373.70296955942507\n",
      "p Value: 2.10818162606035e-34\n",
      "Degrees of freedom: 96\n"
     ]
    }
   ],
   "source": [
    "table_filled_data = pd.crosstab(filled_data['TenYearCHD'], [filled_data['male'], filled_data['education'], filled_data['currentSmoker'], filled_data['BPMeds'], \n",
    "                                               filled_data['prevalentStroke'], filled_data['prevalentHyp'], filled_data['diabetes']])\n",
    "chi2_stat, p_value, dof, expected = stats.chi2_contingency(table_filled_data)\n",
    "print(\"Chi-square test:\")\n",
    "print(\"Test statistic:\", chi2_stat)\n",
    "print(\"p Value:\", p_value)\n",
    "print(\"Degrees of freedom:\", dof)\n"
   ]
  },
  {
   "cell_type": "markdown",
   "id": "aaeab895",
   "metadata": {},
   "source": [
    "#### Chi-square test before filling empty rows"
   ]
  },
  {
   "cell_type": "code",
   "execution_count": 23,
   "id": "b6f2f516",
   "metadata": {},
   "outputs": [
    {
     "name": "stdout",
     "output_type": "stream",
     "text": [
      "Chi-square test:\n",
      "Test statistic: 363.15111423643697\n",
      "p Value: 1.0833141913323968e-32\n",
      "Degrees of freedom: 96\n"
     ]
    }
   ],
   "source": [
    "table = pd.crosstab(raw_data['TenYearCHD'], [raw_data['male'], raw_data['education'], raw_data['currentSmoker'], raw_data['BPMeds'], \n",
    "                                               raw_data['prevalentStroke'], raw_data['prevalentHyp'], raw_data['diabetes']])\n",
    "chi2_stat, p_value, dof, expected = stats.chi2_contingency(table)\n",
    "print(\"Chi-square test:\")\n",
    "print(\"Test statistic:\", chi2_stat)\n",
    "print(\"p Value:\", p_value)\n",
    "print(\"Degrees of freedom:\", dof)"
   ]
  },
  {
   "cell_type": "markdown",
   "id": "0adfd0ef",
   "metadata": {},
   "source": [
    "Comment: The p-value is very small both before (1.083e-32) and after (2.108e-34) filling the data with the median. This means that there is a very strong statistical basis for rejecting the null hypothesis, i.e. the hypothesis that there is no relationship between the analyzed variables. The difference in p-value between the two cases may be due to slight changes in the distribution of the data due to median filling."
   ]
  },
  {
   "cell_type": "code",
   "execution_count": 24,
   "id": "8883aac7",
   "metadata": {},
   "outputs": [
    {
     "data": {
      "image/png": "[encoded data removed]",
      "text/plain": [
       "<Figure size 576x360 with 2 Axes>"
      ]
     },
     "metadata": {
      "needs_background": "light"
     },
     "output_type": "display_data"
    },
    {
     "data": {
      "image/png": "[encoded data removed]",
      "text/plain": [
       "<Figure size 576x360 with 2 Axes>"
      ]
     },
     "metadata": {
      "needs_background": "light"
     },
     "output_type": "display_data"
    }
   ],
   "source": [
    "num_cols = [\"age\", \"cigsPerDay\", \"totChol\", \"sysBP\", \"diaBP\", \"BMI\", \"heartRate\", \"glucose\"]\n",
    "num_data_corr = raw_data[num_cols]\n",
    "num_data_corr.corr()*100\n",
    "\n",
    "plt.figure(figsize=(8, 5)) \n",
    "sns.heatmap(num_data_corr.corr()*100, annot=True, cmap=\"coolwarm\", fmt=\".2f\", linewidths=0.5)\n",
    "plt.title(\"Corellation Matrix with empty rows\")\n",
    "plt.tight_layout()\n",
    "plt.show()\n",
    "\n",
    "num_cols_filled = [\"age\", \"cigsPerDay\", \"totChol\", \"sysBP\", \"diaBP\", \"BMI\", \"heartRate\", \"glucose\"]\n",
    "num_data_corr_filled = filled_data[num_cols_filled]\n",
    "num_data_corr_filled.corr()*100\n",
    "\n",
    "plt.figure(figsize=(8, 5)) \n",
    "sns.heatmap(num_data_corr_filled.corr()*100, annot=True, cmap=\"coolwarm\", fmt=\".2f\", linewidths=0.5)\n",
    "plt.title(\"Corellation Matrix without empty rows\")\n",
    "plt.tight_layout()\n",
    "plt.show()"
   ]
  },
  {
   "cell_type": "markdown",
   "id": "749801e1",
   "metadata": {},
   "source": [
    "Comment: There was no significant change in the correlation between numerical data after filling in the missing data with the median."
   ]
  },
  {
   "cell_type": "markdown",
   "id": "b65a9fe0",
   "metadata": {},
   "source": [
    "### Outliers detection"
   ]
  },
  {
   "cell_type": "code",
   "execution_count": 25,
   "id": "17c648a5",
   "metadata": {},
   "outputs": [
    {
     "data": {
      "text/plain": [
       "[Text(1, 0, 'male'),\n",
       " Text(2, 0, 'age'),\n",
       " Text(3, 0, 'education'),\n",
       " Text(4, 0, 'currentSmoker'),\n",
       " Text(5, 0, 'cigsPerDay'),\n",
       " Text(6, 0, 'BPMeds'),\n",
       " Text(7, 0, 'prevalentStroke'),\n",
       " Text(8, 0, 'prevalentHyp'),\n",
       " Text(9, 0, 'diabetes'),\n",
       " Text(10, 0, 'totChol'),\n",
       " Text(11, 0, 'sysBP'),\n",
       " Text(12, 0, 'diaBP'),\n",
       " Text(13, 0, 'BMI'),\n",
       " Text(14, 0, 'heartRate'),\n",
       " Text(15, 0, 'glucose'),\n",
       " Text(16, 0, 'TenYearCHD')]"
      ]
     },
     "execution_count": 25,
     "metadata": {},
     "output_type": "execute_result"
    },
    {
     "data": {
      "image/png": "[encoded data removed]",
      "text/plain": [
       "<Figure size 1008x720 with 1 Axes>"
      ]
     },
     "metadata": {
      "needs_background": "light"
     },
     "output_type": "display_data"
    }
   ],
   "source": [
    "box_chart = filled_data.boxplot(figsize=(14,10),fontsize=10)\n",
    "box_chart.set_xticklabels(box_chart.get_xticklabels(), rotation=45)"
   ]
  },
  {
   "cell_type": "code",
   "execution_count": 26,
   "id": "5e1917ec",
   "metadata": {},
   "outputs": [],
   "source": [
    "outlier_cols = ['cigsPerDay','totChol','sysBP','diaBP','BMI','heartRate','glucose']"
   ]
  },
  {
   "cell_type": "code",
   "execution_count": 27,
   "id": "a1a8dd8a",
   "metadata": {},
   "outputs": [],
   "source": [
    "def remove_outliers(data, columns, threshold=1.5):\n",
    "    \"\"\"\n",
    "    Removes outliers from multiple columns in a Pandas DataFrame using the IQR method.\n",
    "    \n",
    "    Parameters:\n",
    "    data (pd.DataFrame): Input data containing columns with outliers to be removed.\n",
    "    columns (list): List of column names to remove outliers from.\n",
    "    threshold (float): IQR threshold, default is 1.5.\n",
    "    \n",
    "    Returns:\n",
    "    pd.DataFrame: Dataframe with outliers removed.\n",
    "    \"\"\"\n",
    "    \n",
    "    filtered_data = data.copy()\n",
    "    \n",
    "    for column in columns:\n",
    "        Q1 = filtered_data[column].quantile(0.25)\n",
    "        Q3 = filtered_data[column].quantile(0.75)\n",
    "        IQR = Q3 - Q1\n",
    "        lower_bound = Q1 - threshold * IQR\n",
    "        upper_bound = Q3 + threshold * IQR\n",
    "        \n",
    "        filtered_data = filtered_data[(filtered_data[column] >= lower_bound) & (filtered_data[column] <= upper_bound)]\n",
    "    \n",
    "    return filtered_data"
   ]
  },
  {
   "cell_type": "code",
   "execution_count": 28,
   "id": "1e8dac18",
   "metadata": {},
   "outputs": [],
   "source": [
    "cleaned_data=remove_outliers(filled_data,outlier_cols)"
   ]
  },
  {
   "cell_type": "code",
   "execution_count": 29,
   "id": "e2d28c06",
   "metadata": {},
   "outputs": [
    {
     "name": "stdout",
     "output_type": "stream",
     "text": [
      "<class 'pandas.core.frame.DataFrame'>\n",
      "Int64Index: 3630 entries, 0 to 4236\n",
      "Data columns (total 16 columns):\n",
      " #   Column           Non-Null Count  Dtype  \n",
      "---  ------           --------------  -----  \n",
      " 0   male             3630 non-null   int64  \n",
      " 1   age              3630 non-null   int64  \n",
      " 2   education        3630 non-null   float64\n",
      " 3   currentSmoker    3630 non-null   int64  \n",
      " 4   cigsPerDay       3630 non-null   float64\n",
      " 5   BPMeds           3630 non-null   float64\n",
      " 6   prevalentStroke  3630 non-null   int64  \n",
      " 7   prevalentHyp     3630 non-null   int64  \n",
      " 8   diabetes         3630 non-null   int64  \n",
      " 9   totChol          3630 non-null   float64\n",
      " 10  sysBP            3630 non-null   float64\n",
      " 11  diaBP            3630 non-null   float64\n",
      " 12  BMI              3630 non-null   float64\n",
      " 13  heartRate        3630 non-null   float64\n",
      " 14  glucose          3630 non-null   float64\n",
      " 15  TenYearCHD       3630 non-null   int64  \n",
      "dtypes: float64(9), int64(7)\n",
      "memory usage: 482.1 KB\n"
     ]
    }
   ],
   "source": [
    "cleaned_data.info()"
   ]
  },
  {
   "cell_type": "code",
   "execution_count": 30,
   "id": "8a9f98e3",
   "metadata": {},
   "outputs": [
    {
     "data": {
      "text/plain": [
       "[Text(1, 0, 'male'),\n",
       " Text(2, 0, 'age'),\n",
       " Text(3, 0, 'education'),\n",
       " Text(4, 0, 'currentSmoker'),\n",
       " Text(5, 0, 'cigsPerDay'),\n",
       " Text(6, 0, 'BPMeds'),\n",
       " Text(7, 0, 'prevalentStroke'),\n",
       " Text(8, 0, 'prevalentHyp'),\n",
       " Text(9, 0, 'diabetes'),\n",
       " Text(10, 0, 'totChol'),\n",
       " Text(11, 0, 'sysBP'),\n",
       " Text(12, 0, 'diaBP'),\n",
       " Text(13, 0, 'BMI'),\n",
       " Text(14, 0, 'heartRate'),\n",
       " Text(15, 0, 'glucose'),\n",
       " Text(16, 0, 'TenYearCHD')]"
      ]
     },
     "execution_count": 30,
     "metadata": {},
     "output_type": "execute_result"
    },
    {
     "data": {
      "image/png": "[encoded data removed]",
      "text/plain": [
       "<Figure size 1008x720 with 1 Axes>"
      ]
     },
     "metadata": {
      "needs_background": "light"
     },
     "output_type": "display_data"
    }
   ],
   "source": [
    "box_chart_cleaned = cleaned_data.boxplot(figsize=(14,10),fontsize=10)\n",
    "box_chart_cleaned.set_xticklabels(box_chart_cleaned.get_xticklabels(), rotation=45)"
   ]
  },
  {
   "cell_type": "code",
   "execution_count": 31,
   "id": "48574b65",
   "metadata": {},
   "outputs": [
    {
     "data": {
      "text/html": [
       "<div>\n",
       "<style scoped>\n",
       "    .dataframe tbody tr th:only-of-type {\n",
       "        vertical-align: middle;\n",
       "    }\n",
       "\n",
       "    .dataframe tbody tr th {\n",
       "        vertical-align: top;\n",
       "    }\n",
       "\n",
       "    .dataframe thead th {\n",
       "        text-align: right;\n",
       "    }\n",
       "</style>\n",
       "<table border=\"1\" class=\"dataframe\">\n",
       "  <thead>\n",
       "    <tr style=\"text-align: right;\">\n",
       "      <th></th>\n",
       "      <th>male</th>\n",
       "      <th>age</th>\n",
       "      <th>education</th>\n",
       "      <th>currentSmoker</th>\n",
       "      <th>cigsPerDay</th>\n",
       "      <th>BPMeds</th>\n",
       "      <th>prevalentStroke</th>\n",
       "      <th>prevalentHyp</th>\n",
       "      <th>diabetes</th>\n",
       "      <th>totChol</th>\n",
       "      <th>sysBP</th>\n",
       "      <th>diaBP</th>\n",
       "      <th>BMI</th>\n",
       "      <th>heartRate</th>\n",
       "      <th>glucose</th>\n",
       "      <th>TenYearCHD</th>\n",
       "    </tr>\n",
       "  </thead>\n",
       "  <tbody>\n",
       "    <tr>\n",
       "      <th>0</th>\n",
       "      <td>1</td>\n",
       "      <td>39</td>\n",
       "      <td>4.0</td>\n",
       "      <td>0</td>\n",
       "      <td>0.0</td>\n",
       "      <td>0.0</td>\n",
       "      <td>0</td>\n",
       "      <td>0</td>\n",
       "      <td>0</td>\n",
       "      <td>195.0</td>\n",
       "      <td>106.0</td>\n",
       "      <td>70.0</td>\n",
       "      <td>26.97</td>\n",
       "      <td>80.0</td>\n",
       "      <td>77.0</td>\n",
       "      <td>0</td>\n",
       "    </tr>\n",
       "    <tr>\n",
       "      <th>1</th>\n",
       "      <td>0</td>\n",
       "      <td>46</td>\n",
       "      <td>2.0</td>\n",
       "      <td>0</td>\n",
       "      <td>0.0</td>\n",
       "      <td>0.0</td>\n",
       "      <td>0</td>\n",
       "      <td>0</td>\n",
       "      <td>0</td>\n",
       "      <td>250.0</td>\n",
       "      <td>121.0</td>\n",
       "      <td>81.0</td>\n",
       "      <td>28.73</td>\n",
       "      <td>95.0</td>\n",
       "      <td>76.0</td>\n",
       "      <td>0</td>\n",
       "    </tr>\n",
       "    <tr>\n",
       "      <th>2</th>\n",
       "      <td>1</td>\n",
       "      <td>48</td>\n",
       "      <td>1.0</td>\n",
       "      <td>1</td>\n",
       "      <td>20.0</td>\n",
       "      <td>0.0</td>\n",
       "      <td>0</td>\n",
       "      <td>0</td>\n",
       "      <td>0</td>\n",
       "      <td>245.0</td>\n",
       "      <td>127.5</td>\n",
       "      <td>80.0</td>\n",
       "      <td>25.34</td>\n",
       "      <td>75.0</td>\n",
       "      <td>70.0</td>\n",
       "      <td>0</td>\n",
       "    </tr>\n",
       "    <tr>\n",
       "      <th>3</th>\n",
       "      <td>0</td>\n",
       "      <td>61</td>\n",
       "      <td>3.0</td>\n",
       "      <td>1</td>\n",
       "      <td>30.0</td>\n",
       "      <td>0.0</td>\n",
       "      <td>0</td>\n",
       "      <td>1</td>\n",
       "      <td>0</td>\n",
       "      <td>225.0</td>\n",
       "      <td>150.0</td>\n",
       "      <td>95.0</td>\n",
       "      <td>28.58</td>\n",
       "      <td>65.0</td>\n",
       "      <td>103.0</td>\n",
       "      <td>1</td>\n",
       "    </tr>\n",
       "    <tr>\n",
       "      <th>4</th>\n",
       "      <td>0</td>\n",
       "      <td>46</td>\n",
       "      <td>3.0</td>\n",
       "      <td>1</td>\n",
       "      <td>23.0</td>\n",
       "      <td>0.0</td>\n",
       "      <td>0</td>\n",
       "      <td>0</td>\n",
       "      <td>0</td>\n",
       "      <td>285.0</td>\n",
       "      <td>130.0</td>\n",
       "      <td>84.0</td>\n",
       "      <td>23.10</td>\n",
       "      <td>85.0</td>\n",
       "      <td>85.0</td>\n",
       "      <td>0</td>\n",
       "    </tr>\n",
       "  </tbody>\n",
       "</table>\n",
       "</div>"
      ],
      "text/plain": [
       "   male  age  education  currentSmoker  cigsPerDay  BPMeds  prevalentStroke  \\\n",
       "0     1   39        4.0              0         0.0     0.0                0   \n",
       "1     0   46        2.0              0         0.0     0.0                0   \n",
       "2     1   48        1.0              1        20.0     0.0                0   \n",
       "3     0   61        3.0              1        30.0     0.0                0   \n",
       "4     0   46        3.0              1        23.0     0.0                0   \n",
       "\n",
       "   prevalentHyp  diabetes  totChol  sysBP  diaBP    BMI  heartRate  glucose  \\\n",
       "0             0         0    195.0  106.0   70.0  26.97       80.0     77.0   \n",
       "1             0         0    250.0  121.0   81.0  28.73       95.0     76.0   \n",
       "2             0         0    245.0  127.5   80.0  25.34       75.0     70.0   \n",
       "3             1         0    225.0  150.0   95.0  28.58       65.0    103.0   \n",
       "4             0         0    285.0  130.0   84.0  23.10       85.0     85.0   \n",
       "\n",
       "   TenYearCHD  \n",
       "0           0  \n",
       "1           0  \n",
       "2           0  \n",
       "3           1  \n",
       "4           0  "
      ]
     },
     "execution_count": 31,
     "metadata": {},
     "output_type": "execute_result"
    }
   ],
   "source": [
    "cleaned_data.head()"
   ]
  },
  {
   "cell_type": "markdown",
   "id": "6fe79ad4",
   "metadata": {},
   "source": [
    "#### Checking the distribution in the data after removing outliers"
   ]
  },
  {
   "cell_type": "code",
   "execution_count": 32,
   "id": "da97aab4",
   "metadata": {},
   "outputs": [
    {
     "data": {
      "image/png": "[encoded data removed]",
      "text/plain": [
       "<Figure size 1440x1440 with 16 Axes>"
      ]
     },
     "metadata": {
      "needs_background": "light"
     },
     "output_type": "display_data"
    }
   ],
   "source": [
    "cols_rem_outs =['male', 'age', 'education', 'currentSmoker', 'cigsPerDay', 'BPMeds',\n",
    "       'prevalentStroke', 'prevalentHyp', 'diabetes', 'totChol', 'sysBP',\n",
    "       'diaBP', 'BMI', 'heartRate', 'glucose', 'TenYearCHD']\n",
    "plt.figure(figsize=(20,20))\n",
    "for i in range(1,17):\n",
    "    plt.subplot(4,4,i)\n",
    "    sns.histplot(cleaned_data[cols_rem_outs[i-1]])"
   ]
  },
  {
   "cell_type": "markdown",
   "id": "13ebd6b4",
   "metadata": {},
   "source": [
    "Comment: After removing the outliers, the data distribution became more symmetrical."
   ]
  },
  {
   "cell_type": "markdown",
   "id": "ea05b9be",
   "metadata": {},
   "source": [
    "### Split data at test and train"
   ]
  },
  {
   "cell_type": "code",
   "execution_count": 33,
   "id": "56288a46",
   "metadata": {},
   "outputs": [],
   "source": [
    "from sklearn.model_selection import train_test_split"
   ]
  },
  {
   "cell_type": "code",
   "execution_count": 34,
   "id": "cfe1527a",
   "metadata": {},
   "outputs": [],
   "source": [
    "data_model = cleaned_data.copy()"
   ]
  },
  {
   "cell_type": "code",
   "execution_count": 35,
   "id": "5b12eb75",
   "metadata": {},
   "outputs": [],
   "source": [
    "X = data_model\n",
    "y = data_model.pop('TenYearCHD')\n",
    "\n",
    "X_train, X_test, y_train, y_test = train_test_split(X, y, test_size=0.3)"
   ]
  },
  {
   "cell_type": "code",
   "execution_count": 36,
   "id": "d69259d1",
   "metadata": {},
   "outputs": [
    {
     "name": "stdout",
     "output_type": "stream",
     "text": [
      "Train set size: (2541, 15)\n",
      "Test set size: (1089, 15)\n",
      "Target train set size: (2541,)\n",
      "Target test size: (1089,)\n"
     ]
    }
   ],
   "source": [
    "print(f'Train set size: {X_train.shape}')\n",
    "print(f'Test set size: {X_test.shape}')\n",
    "print(f'Target train set size: {y_train.shape}')\n",
    "print(f'Target test size: {y_test.shape}')"
   ]
  },
  {
   "cell_type": "markdown",
   "id": "1f4b38ed",
   "metadata": {},
   "source": [
    "### Logistic Regression"
   ]
  },
  {
   "cell_type": "code",
   "execution_count": 37,
   "id": "078f52c5",
   "metadata": {},
   "outputs": [],
   "source": [
    "from sklearn.linear_model import LogisticRegression\n",
    "from sklearn.metrics import accuracy_score\n",
    "from sklearn.metrics import confusion_matrix\n",
    "from sklearn.metrics import classification_report"
   ]
  },
  {
   "cell_type": "code",
   "execution_count": 38,
   "id": "88ed4cb9",
   "metadata": {},
   "outputs": [],
   "source": [
    "model_log_reg = LogisticRegression(max_iter=10000)"
   ]
  },
  {
   "cell_type": "code",
   "execution_count": 39,
   "id": "965f3127",
   "metadata": {},
   "outputs": [
    {
     "data": {
      "text/plain": [
       "LogisticRegression(max_iter=10000)"
      ]
     },
     "execution_count": 39,
     "metadata": {},
     "output_type": "execute_result"
    }
   ],
   "source": [
    "model_log_reg.fit(X_train, y_train)"
   ]
  },
  {
   "cell_type": "code",
   "execution_count": 40,
   "id": "d5e2f58d",
   "metadata": {},
   "outputs": [],
   "source": [
    "y_pred = model_log_reg.predict(X_test)"
   ]
  },
  {
   "cell_type": "code",
   "execution_count": 41,
   "id": "f319b21b",
   "metadata": {},
   "outputs": [
    {
     "name": "stdout",
     "output_type": "stream",
     "text": [
      "Model accuracy  87.05234159779614\n"
     ]
    }
   ],
   "source": [
    "accuracy = accuracy_score(y_test, y_pred)\n",
    "print(\"Model accuracy \", accuracy*100)"
   ]
  },
  {
   "cell_type": "code",
   "execution_count": 42,
   "id": "aa70a63d",
   "metadata": {},
   "outputs": [],
   "source": [
    "def plot_confusion_matrix(cm):\n",
    "    plt.figure(figsize=(8, 6))\n",
    "    sns.heatmap(cm, annot=True, fmt='d', cmap='Blues')\n",
    "    plt.title('Confusion Matrix')\n",
    "    plt.xlabel('Predicted Label')\n",
    "    plt.ylabel('True Label')\n",
    "    plt.show()"
   ]
  },
  {
   "cell_type": "code",
   "execution_count": 43,
   "id": "f2419bb0",
   "metadata": {},
   "outputs": [],
   "source": [
    "cm = confusion_matrix(y_test, y_pred)"
   ]
  },
  {
   "cell_type": "code",
   "execution_count": 44,
   "id": "1ee1548b",
   "metadata": {},
   "outputs": [
    {
     "data": {
      "image/png": "[encoded data removed]",
      "text/plain": [
       "<Figure size 576x432 with 2 Axes>"
      ]
     },
     "metadata": {
      "needs_background": "light"
     },
     "output_type": "display_data"
    }
   ],
   "source": [
    "plot_confusion_matrix(cm)"
   ]
  },
  {
   "cell_type": "code",
   "execution_count": 45,
   "id": "e5748308",
   "metadata": {},
   "outputs": [
    {
     "name": "stdout",
     "output_type": "stream",
     "text": [
      "              precision    recall  f1-score   support\n",
      "\n",
      "           0       0.88      0.99      0.93       952\n",
      "           1       0.33      0.03      0.05       137\n",
      "\n",
      "    accuracy                           0.87      1089\n",
      "   macro avg       0.60      0.51      0.49      1089\n",
      "weighted avg       0.81      0.87      0.82      1089\n",
      "\n"
     ]
    }
   ],
   "source": [
    "print(classification_report(y_test,y_pred, zero_division=1))"
   ]
  },
  {
   "cell_type": "markdown",
   "id": "24387eef",
   "metadata": {},
   "source": [
    "Comment: We have a large number of class 0 (negative) samples correctly classified, indicating a good ability of the model to identify negative cases.\n",
    "However, we have a low number of class 1 (positive) samples correctly classified, suggesting that the model has difficulty identifying positive cases.\n",
    "There is also a significant number of Class 0 samples misclassified as Class 1 (92 cases), which may indicate the occurrence of false positives."
   ]
  },
  {
   "cell_type": "markdown",
   "id": "3bded4f2",
   "metadata": {},
   "source": [
    "#### Logistic regression optimization - GridSearchCV"
   ]
  },
  {
   "cell_type": "code",
   "execution_count": 46,
   "id": "8596dc4c",
   "metadata": {},
   "outputs": [],
   "source": [
    "from sklearn.model_selection import GridSearchCV"
   ]
  },
  {
   "cell_type": "code",
   "execution_count": 47,
   "id": "0821f611",
   "metadata": {},
   "outputs": [],
   "source": [
    "param_grid = {\n",
    "    'C': [0.1, 1.0, 2.0, 3.0, 5.0, 10.0], \n",
    "    'solver': ['lbfgs', 'liblinear', 'sag'],\n",
    "    'max_iter' : [10000,15000,100000]\n",
    "    \n",
    "}"
   ]
  },
  {
   "cell_type": "code",
   "execution_count": null,
   "id": "9b2379ad",
   "metadata": {},
   "outputs": [],
   "source": [
    "grid_search = GridSearchCV(model_log_reg, param_grid, cv=5)\n",
    "\n",
    "grid_search.fit(X, y)\n",
    "\n",
    "best_params = grid_search.best_params_\n",
    "print(\"Best parameters:\", best_params)\n",
    "\n",
    "best_model = grid_search.best_estimator_\n",
    "accuracy = best_model.score(X, y)\n",
    "print(\"Accuracy: \", accuracy)"
   ]
  },
  {
   "cell_type": "code",
   "execution_count": null,
   "id": "316a8555",
   "metadata": {},
   "outputs": [],
   "source": [
    "y_pred_opt = best_model.predict(X_test)\n",
    "\n",
    "cm = confusion_matrix(y_test, y_pred_opt)\n",
    "\n",
    "plot_confusion_matrix(cm)"
   ]
  },
  {
   "cell_type": "code",
   "execution_count": null,
   "id": "b3598067",
   "metadata": {},
   "outputs": [],
   "source": [
    "print(classification_report(y_test,y_pred, zero_division=1))"
   ]
  },
  {
   "cell_type": "markdown",
   "id": "4d7c9777",
   "metadata": {},
   "source": [
    "Comment: After applying GridSearchCV, the result is still a low number of correctly classified class 1 (positive) samples."
   ]
  },
  {
   "cell_type": "markdown",
   "id": "52ee981a",
   "metadata": {},
   "source": [
    "#### Logistic regression optimization - RandomUnderSampler"
   ]
  },
  {
   "cell_type": "code",
   "execution_count": null,
   "id": "0b1b9539",
   "metadata": {},
   "outputs": [],
   "source": [
    "from imblearn.under_sampling import RandomUnderSampler\n",
    "\n",
    "undersampler = RandomUnderSampler(random_state=42)\n",
    "\n",
    "X_train_undersampled, y_train_undersampled = undersampler.fit_resample(X_train, y_train)\n"
   ]
  },
  {
   "cell_type": "code",
   "execution_count": null,
   "id": "e1bbe511",
   "metadata": {},
   "outputs": [],
   "source": [
    "model_undersampler = LogisticRegression(max_iter=10000)\n",
    "\n",
    "model_undersampler.fit(X_train_undersampled, y_train_undersampled)\n",
    "\n",
    "y_pred = model_undersampler.predict(X_test)\n",
    "\n",
    "accuracy = accuracy_score(y_test, y_pred)\n",
    "\n",
    "print(\"Model accuracy \", accuracy*100)"
   ]
  },
  {
   "cell_type": "code",
   "execution_count": null,
   "id": "82cb9309",
   "metadata": {},
   "outputs": [],
   "source": [
    "cm = confusion_matrix(y_test, y_pred)\n",
    "\n",
    "plot_confusion_matrix(cm)"
   ]
  },
  {
   "cell_type": "code",
   "execution_count": null,
   "id": "eb8a184e",
   "metadata": {},
   "outputs": [],
   "source": [
    "print(classification_report(y_test,y_pred, zero_division=1))"
   ]
  },
  {
   "cell_type": "markdown",
   "id": "6128a5a2",
   "metadata": {},
   "source": [
    "Comment: After using RandomUnderSampler, the result of the model's predictions regarding classification to class 1 (positive) improved, while the model began to cope worse with predictions to class 0 and the accuracy of the model significantly decreased."
   ]
  },
  {
   "cell_type": "markdown",
   "id": "0e45bb22",
   "metadata": {},
   "source": [
    "### Random Forest "
   ]
  },
  {
   "cell_type": "code",
   "execution_count": null,
   "id": "4e363e3c",
   "metadata": {},
   "outputs": [],
   "source": [
    "from sklearn.ensemble import RandomForestClassifier"
   ]
  },
  {
   "cell_type": "code",
   "execution_count": null,
   "id": "0e4334a3",
   "metadata": {},
   "outputs": [],
   "source": [
    "param_grid = {\n",
    "    'n_estimators': [50, 100, 200, 300, 400, 600],\n",
    "    'max_depth': [None, 5, 10],\n",
    "    'min_samples_leaf': [1, 2, 3, 4, 5, 6, 7, 8, 9, 10]\n",
    "}\n"
   ]
  },
  {
   "cell_type": "code",
   "execution_count": null,
   "id": "22df1505",
   "metadata": {},
   "outputs": [],
   "source": [
    "random_forest_model = RandomForestClassifier(random_state=42)\n",
    "\n",
    "grid_search = GridSearchCV(estimator=random_forest_model, param_grid=param_grid, cv=5)\n",
    "\n",
    "grid_search.fit(X_train, y_train)\n",
    "\n",
    "print(\"Best parameters: \", grid_search.best_params_)\n",
    "\n",
    "print(\"Best value: \", grid_search.best_score_)"
   ]
  },
  {
   "cell_type": "code",
   "execution_count": null,
   "id": "67637507",
   "metadata": {},
   "outputs": [],
   "source": [
    "y_pred = grid_search.predict(X_test)\n",
    "cm = confusion_matrix(y_test, y_pred)\n",
    "plot_confusion_matrix(cm)"
   ]
  },
  {
   "cell_type": "code",
   "execution_count": null,
   "id": "b2b95ce6",
   "metadata": {},
   "outputs": [],
   "source": [
    "print(classification_report(y_test,y_pred, zero_division=1))"
   ]
  },
  {
   "cell_type": "markdown",
   "id": "3276af6b",
   "metadata": {},
   "source": [
    "comment: Values for class 1 indicate that the model is unable to correctly classify samples of this class because recall and f1-score are 0.0. This is a situation where the model does not correctly recognize a single class 1 sample.\n",
    "\n",
    "In general, for class 0 the model performs well, but for class 1 it is inefficient. This may be due to an unbalanced dataset or lack of appropriate features to effectively classify Class 1 samples."
   ]
  },
  {
   "cell_type": "markdown",
   "id": "67212ec9",
   "metadata": {},
   "source": [
    "#### Random Forest optimization - SMOTE"
   ]
  },
  {
   "cell_type": "code",
   "execution_count": null,
   "id": "61d9d89f",
   "metadata": {},
   "outputs": [],
   "source": [
    "from imblearn.over_sampling import SMOTE\n",
    "\n",
    "smote = SMOTE(random_state=42)\n",
    "\n",
    "X_train_oversampled, y_train_oversampled = smote.fit_resample(X_train, y_train)"
   ]
  },
  {
   "cell_type": "code",
   "execution_count": null,
   "id": "3dbb3d5e",
   "metadata": {},
   "outputs": [],
   "source": [
    "grid_search.fit(X_train_oversampled, y_train_oversampled)\n",
    "\n",
    "# Wykonanie predykcji na danych testowych\n",
    "y_pred = grid_search.predict(X_test)"
   ]
  },
  {
   "cell_type": "code",
   "execution_count": null,
   "id": "317944d8",
   "metadata": {},
   "outputs": [],
   "source": [
    "print(\"Best parameters: \", grid_search.best_params_)\n",
    "\n",
    "print(\"Best value: \", grid_search.best_score_)"
   ]
  },
  {
   "cell_type": "code",
   "execution_count": null,
   "id": "f8a56488",
   "metadata": {},
   "outputs": [],
   "source": [
    "y_pred = grid_search.predict(X_test)\n",
    "cm = confusion_matrix(y_test, y_pred)\n",
    "plot_confusion_matrix(cm)"
   ]
  },
  {
   "cell_type": "code",
   "execution_count": null,
   "id": "7cccf929",
   "metadata": {},
   "outputs": [],
   "source": [
    "print(classification_report(y_test,y_pred, zero_division=1))"
   ]
  },
  {
   "cell_type": "markdown",
   "id": "ced547fd",
   "metadata": {},
   "source": [
    "Comment: The use of smote optimization slightly improved the model's prediction of class 0. In conclusion, the model has a high precision for class 0, which means that it correctly classifies most cases as negative. However, for class 1, the model has low accuracy and sensitivity, which means it has difficulty identifying positive cases."
   ]
  },
  {
   "cell_type": "code",
   "execution_count": null,
   "id": "84d4ed9c",
   "metadata": {},
   "outputs": [],
   "source": []
  }
 ],
 "metadata": {
  "kernelspec": {
   "display_name": "Python 3 (ipykernel)",
   "language": "python",
   "name": "python3"
  },
  "language_info": {
   "codemirror_mode": {
    "name": "ipython",
    "version": 3
   },
   "file_extension": ".py",
   "mimetype": "text/x-python",
   "name": "python",
   "nbconvert_exporter": "python",
   "pygments_lexer": "ipython3",
   "version": "3.9.12"
  }
 },
 "nbformat": 4,
 "nbformat_minor": 5
}
